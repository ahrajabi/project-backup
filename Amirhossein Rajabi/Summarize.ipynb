{
 "cells": [
  {
   "cell_type": "code",
   "execution_count": 90,
   "metadata": {
    "collapsed": false
   },
   "outputs": [],
   "source": [
    "# -*- coding: utf-8 -*-\n",
    "import math\n",
    "\n",
    "from nltk.probability import FreqDist\n",
    "from nltk.corpus import stopwords\n",
    "from hazm import sent_tokenize, word_tokenize\n",
    "from hazm import Normalizer\n",
    "import pandas as pd\n",
    "\n",
    "class Summarizer(object):\n",
    "\n",
    "    def __init__(self):\n",
    "        self.normalizer = Normalizer()\n",
    "\n",
    "    def summarize(self, input):\n",
    "        self.input = self.normalizer.normalize(input)\n",
    "        self.base_words = word_tokenize(self.input)\n",
    "        self.working_sentences = sent_tokenize(self.input)\n",
    "        self.sentences_number = len(self.working_sentences)\n",
    "        return self._get_summarize(num_sentences=3)\n",
    "\n",
    "    def _find_num_sentences(self):\n",
    "        return (int(math.log(self.sentences_number) ** 2 + 1) + 1) if self.sentences_number >= 6 else self.sentences_number\n",
    "        # return int(self.sentences_number - 0.2 * self.sentences_number)\n",
    "\n",
    "    def _get_summarize(self, num_sentences):\n",
    "        # if str(word not in stopwords.words()]\n",
    "        swfa = pd.read_csv('../dataset/stopwords.csv' , header=None)\n",
    "        words = [word for word in self.base_words if word not in list(swfa[0]) ]\n",
    "        word_frequencies = FreqDist(words)\n",
    "\n",
    "        most_frequent_words = [pair[0] for pair in list(word_frequencies.items())[:100]]\n",
    "\n",
    "        actual_sentences = sent_tokenize(self.input)\n",
    "        output_sentences = []\n",
    "\n",
    "        for word in most_frequent_words:\n",
    "            for i in range(0, len(self.working_sentences)):\n",
    "                if (word in self.working_sentences[i]\n",
    "                        and actual_sentences[i] not in output_sentences):\n",
    "                    output_sentences.append(actual_sentences[i])\n",
    "                    break\n",
    "                if len(output_sentences) >= num_sentences:\n",
    "                    break\n",
    "\n",
    "            if len(output_sentences) >= num_sentences:\n",
    "                break\n",
    "\n",
    "        return self._reorder_sentences(output_sentences)\n",
    "\n",
    "    def _reorder_sentences(self, output_sentences):\n",
    "        output_sentences.sort(key=lambda s1: self.input.find(s1))\n",
    "        return output_sentences"
   ]
  },
  {
   "cell_type": "code",
   "execution_count": null,
   "metadata": {
    "collapsed": true
   },
   "outputs": [],
   "source": []
  },
  {
   "cell_type": "code",
   "execution_count": 93,
   "metadata": {
    "collapsed": true
   },
   "outputs": [],
   "source": [
    "inputs='''\n",
    "یک دستگاه تریلی حامل مهمات (گلوله های توپ) در جاده قزوین آتش گرفت و مهمات آن نیز منفجر شدند.\n",
    "\n",
    "به گزارش عصرایران، این تریلی بر اثر پارگی لاستیک در اتوبان قزوین - زنجان نزدیک به شهر تاکستان دچار حادثه شده بود.  این اتفاق تلفاتی نداشت. انفجارها با صدای بسیار بلندی همراه شدند و تا مسافت زیادی شنیدی شد. نخستین خبرها با عنوان انفجار در اتوبان قزوین منتشر شده بودند.\n",
    " \n",
    "سخنگوی سپاه هم گفت: سانحه امروز اتوبان زنجان- قزوین مربوط به انفجار تریلی حامل گلوله‌های توپ یکی از یگان‌های سپاه بود که این سانحه تلفات جانی نداشت.\n",
    "\n",
    " سردار رمضان شریف مسئول روابط عمومی کل سپاه در گفت‌وگو با خبرنگار فارس در خصوص جزئیات سانحه امروز انفجار یک دستگاه تریلی در اتوبان زنجان- قزوین اظهار داشت: این سانحه مربوط یکی از تریلی‌هایی بود که مقادیری از گلوله‌های توپ متعلق به یکی از یگان‌های سپاه را حمل می‌کرد که این تریلی در  اثر ترکیدگی لاستیک و برخورد با گاردریل کنار جاده در هوای بسیار گرم شده و دچار آتش‌سوزی و انفجار می‌شود.\n",
    "\n",
    "وی گفت: با تدابیر ایمنی پیش‌بینی شده برای جلوگیری از آسیب به خودروهای در حال حرکت بلافاصله مسیر توسط تیم اسکورت مسدود و با همکاری مردم عزیز هیچ آسیبی به کسی نمی‌رسد و تنها یکی از مأمورین فداکار نیروی انتظامی دچار مصدومیت جزیی شده است.\n",
    "\n",
    "سردار شریف خاطرنشان کرد: اقدامات ایمنی جهت حمل و نقل مهمات نظامی طبق دستورالعمل جاری بر فرآیند چینش مهمات در تریلی به طور کامل اعمال شده بود و تدابیر دیگر نظیر نبودن چاشنی نیز از دیگر اقداماتی بود که مسئولان امر صورت داده بودند.\n",
    "'''"
   ]
  },
  {
   "cell_type": "code",
   "execution_count": 94,
   "metadata": {
    "collapsed": false
   },
   "outputs": [
    {
     "name": "stdout",
     "output_type": "stream",
     "text": [
      "به گزارش عصرایران، این تریلی بر اثر پارگی لاستیک در اتوبان قزوین - زنجان نزدیک به شهر تاکستان دچار حادثه شده بود.\n",
      "نخستین خبرها با عنوان انفجار در اتوبان قزوین منتشر شده بودند.\n",
      "سردار رمضان شریف مسئول روابط عمومی کل سپاه در گفت‌وگو با خبرنگار فارس در خصوص جزئیات سانحه امروز انفجار یک دستگاه تریلی در اتوبان زنجان- قزوین اظهار داشت: این سانحه مربوط یکی از تریلی‌هایی بود که مقادیری از گلوله‌های توپ متعلق به یکی از یگان‌های سپاه را حمل می‌کرد که این تریلی در اثر ترکیدگی لاستیک و برخورد با گاردریل کنار جاده در هوای بسیار گرم شده و دچار آتش‌سوزی و انفجار می‌شود.\n"
     ]
    }
   ],
   "source": [
    "obj = Summarizer()\n",
    "s = obj.summarize(inputs)\n",
    "for i in s:\n",
    "    print(i)"
   ]
  },
  {
   "cell_type": "code",
   "execution_count": null,
   "metadata": {
    "collapsed": true
   },
   "outputs": [],
   "source": []
  },
  {
   "cell_type": "code",
   "execution_count": null,
   "metadata": {
    "collapsed": true
   },
   "outputs": [],
   "source": []
  }
 ],
 "metadata": {
  "kernelspec": {
   "display_name": "Python 3",
   "language": "python",
   "name": "python3"
  },
  "language_info": {
   "codemirror_mode": {
    "name": "ipython",
    "version": 3
   },
   "file_extension": ".py",
   "mimetype": "text/x-python",
   "name": "python",
   "nbconvert_exporter": "python",
   "pygments_lexer": "ipython3",
   "version": "3.5.1+"
  }
 },
 "nbformat": 4,
 "nbformat_minor": 0
}
